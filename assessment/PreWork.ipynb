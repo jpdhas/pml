{
 "cells": [
  {
   "cell_type": "markdown",
   "metadata": {
    "id": "npnmlzDFGTht"
   },
   "source": [
    " ## Problem 0.1: Functions\n",
    " \n",
    "Implement a python function that takes an integer input and returns `True` if that number is divisible by 3 and 10 else returns `False`"
   ]
  },
  {
   "cell_type": "code",
   "execution_count": 1,
   "metadata": {
    "colab": {
     "base_uri": "https://localhost:8080/",
     "height": 125
    },
    "id": "VFlNkgqwGThw",
    "outputId": "d040120d-4238-4472-ad5f-0d246b21af7f"
   },
   "outputs": [
    {
     "name": "stdout",
     "output_type": "stream",
     "text": [
      "True\n",
      "True\n",
      "True\n",
      "True\n",
      "True\n",
      "True\n"
     ]
    }
   ],
   "source": [
    "def div3and10(x):\n",
    "    # Your code here\n",
    "    if isinstance(x, int):\n",
    "        if (x % 3 == 0) and (x % 10 == 0):\n",
    "            return True\n",
    "        else:\n",
    "            return False\n",
    "    else:\n",
    "        return False\n",
    "\n",
    "print(div3and10(1) == False)\n",
    "print(div3and10(3) == False)\n",
    "print(div3and10(10) == False)\n",
    "print(div3and10(3*10) == True)\n",
    "print(div3and10(3*10*7) == True)\n",
    "print(div3and10(3*5*7) == False)"
   ]
  },
  {
   "cell_type": "markdown",
   "metadata": {
    "id": "EQ-H5dAxGTiD"
   },
   "source": [
    "## Problem 0.2: Reverse engineering functions\n",
    "Try to reverse engineer function `frev` which shows following behaviour. It takes 2 integer inputs `x1` and `x2` and returns a integer output `y`. Some of its inputs and outputs are listed below in the table  "
   ]
  },
  {
   "cell_type": "code",
   "execution_count": 2,
   "metadata": {
    "colab": {
     "base_uri": "https://localhost:8080/",
     "height": 71
    },
    "id": "njHd9BtnGTiG",
    "outputId": "1d68b5d1-aabd-40d9-ed3b-aea5a45e909d"
   },
   "outputs": [
    {
     "name": "stdout",
     "output_type": "stream",
     "text": [
      "True\n",
      "True\n",
      "True\n"
     ]
    }
   ],
   "source": [
    "  \n",
    "'''\n",
    "+--------------+\n",
    "| frev         |\n",
    "+--------------+\n",
    "| x1 | x2 | y  |\n",
    "+----+----+----+\n",
    "| 2  | 3  | 4  |\n",
    "+----+----+----+\n",
    "| 8  | 5  | 9  |\n",
    "+----+----+----+\n",
    "| 6  | 4  | 7  |\n",
    "+----+----+----+\n",
    "| 10 | 2  | 7  |\n",
    "+----+----+----+\n",
    "| 4  | 2  | 4  |\n",
    "+----+----+----+\n",
    "| 16 | 7  | 15 |\n",
    "+----+----+----+\n",
    "'''\n",
    "def frev(x1, x2):\n",
    "    # Your code here\n",
    "    return (x1/2) + x2\n",
    "\n",
    "# Tests\n",
    "print(frev(16, 7) == 15)\n",
    "print(frev(4, 2) == 4)\n",
    "print(frev(10, 2) == 7)"
   ]
  },
  {
   "cell_type": "markdown",
   "metadata": {
    "id": "R84mOT1bGTiT"
   },
   "source": [
    "## Problem 0.3: Matrix Multiplication\n",
    "Implement the following python function `matrixMultiply` that multplies 2 matrices `x1` and `x2`\n",
    "if matrices can't be multiplied return `Cannot Multiply`. Feel free to use any numerical library if you like."
   ]
  },
  {
   "cell_type": "code",
   "execution_count": 3,
   "metadata": {
    "colab": {
     "base_uri": "https://localhost:8080/",
     "height": 125
    },
    "id": "b7CRYe6QGTiW",
    "outputId": "11bf91f0-c7bf-4cd2-a7df-f7dc5c8d87a4"
   },
   "outputs": [
    {
     "name": "stdout",
     "output_type": "stream",
     "text": [
      "True\n",
      "True\n",
      "True\n",
      "True\n",
      "True\n",
      "True\n"
     ]
    }
   ],
   "source": [
    "import numpy\n",
    "\n",
    "ERR = \"Cannot Multiply\"\n",
    "\n",
    "def matrixMultiply(x1, x2):\n",
    "    a = numpy.array(x1)\n",
    "    b = numpy.array(x2)\n",
    "\n",
    "    try:\n",
    "        np_array = a.dot(b)\n",
    "        return np_array.tolist()\n",
    "    except ValueError:\n",
    "        return ERR\n",
    "\n",
    "a = [[1,2], [2,2]] # A 2 X 2 matrix\n",
    "b = [[2,2], [3,2]] # A 2 X 2 matrix\n",
    "c = [[1,1,2]]  # A 1 X 3 matrix\n",
    "d = [[2],[3],[1]] # A 3 X 1 matrix\n",
    "\n",
    "\n",
    "print(matrixMultiply(a, a) == [[5,6], [6,8]])\n",
    "print(matrixMultiply(a, b) == [[8,6],[10,8]])\n",
    "print(matrixMultiply(c, d) == [[7]]) # A 1 X 1 matrix\n",
    "print(matrixMultiply(c, c) == ERR)\n",
    "print(matrixMultiply(d, d) == ERR)\n",
    "print(matrixMultiply(b, c) == ERR)\n"
   ]
  },
  {
   "cell_type": "code",
   "execution_count": null,
   "metadata": {
    "id": "Uxr5tp-cGTii"
   },
   "outputs": [],
   "source": []
  }
 ],
 "metadata": {
  "colab": {
   "collapsed_sections": [],
   "name": "PreWork.ipynb",
   "provenance": []
  },
  "kernelspec": {
   "display_name": "Python 3",
   "language": "python",
   "name": "python3"
  },
  "language_info": {
   "codemirror_mode": {
    "name": "ipython",
    "version": 3
   },
   "file_extension": ".py",
   "mimetype": "text/x-python",
   "name": "python",
   "nbconvert_exporter": "python",
   "pygments_lexer": "ipython3",
   "version": "3.8.3"
  }
 },
 "nbformat": 4,
 "nbformat_minor": 1
}
