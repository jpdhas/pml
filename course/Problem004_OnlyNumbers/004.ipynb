{
 "cells": [
  {
   "cell_type": "markdown",
   "metadata": {
    "scrolled": true
   },
   "source": [
    "### Features and Target  are (should be) numbers"
   ]
  },
  {
   "cell_type": "markdown",
   "metadata": {},
   "source": [
    "#### Text as Features"
   ]
  },
  {
   "cell_type": "code",
   "execution_count": 13,
   "metadata": {},
   "outputs": [
    {
     "name": "stdout",
     "output_type": "stream",
     "text": [
      "{'data': [[2, 1, 0, 0], [1, 0, 0, 0], [0, 0, 1, 1], [1, 0, 1, 0]], 'feature_names': ['foo foo bar', 'foo', 'hello world', 'hello foo'], 'target': [2, 1, 0, 1]}\n"
     ]
    }
   ],
   "source": [
    "# Lets say your vocabulary consist of only 4 words\n",
    "# \"foo\", \"bar\", \"hello\", \"world\"\n",
    "\n",
    "# If we want to build a dataset of following 4 documents\n",
    "# to be passed to some ML algorithm\n",
    "\n",
    "doc1 = \"foo foo bar\"\n",
    "doc2 = \"foo\"\n",
    "doc3 = \"hello world\"\n",
    "doc4 = \"hello foo\"\n",
    "\n",
    "docs = [doc1, doc2, doc3, doc4]\n",
    "\n",
    "# Arbitary target usecase: number of times the word 'foo' is present in the doc\n",
    "X = {\n",
    "    'data': [\n",
    "        [2, 1, 0, 0],\n",
    "        [1, 0, 0, 0],\n",
    "        [0, 0, 1, 1],\n",
    "        [1, 0, 1, 0]\n",
    "    ],\n",
    "    'feature_names': docs,\n",
    "    'target': [2, 1, 0, 1]\n",
    "}\n",
    "print(X)"
   ]
  },
  {
   "cell_type": "code",
   "execution_count": 17,
   "metadata": {},
   "outputs": [
    {
     "name": "stdout",
     "output_type": "stream",
     "text": [
      "[[1 2 0 0]\n",
      " [0 1 0 0]\n",
      " [0 0 1 1]\n",
      " [0 1 1 0]]\n"
     ]
    }
   ],
   "source": [
    "# TBD, convert docs to X, i.e a dataset of features which ML algorithm can understand\n",
    "# using CountVectorizer\n",
    "# CountVectorizer: converts text into word count vectors\n",
    "\n",
    "from sklearn.feature_extraction.text import CountVectorizer\n",
    "count_vector = CountVectorizer(docs).fit_transform(docs).toarray()\n",
    "print(count_vector)\n"
   ]
  },
  {
   "cell_type": "markdown",
   "metadata": {},
   "source": [
    "#### Image as Features"
   ]
  },
  {
   "cell_type": "code",
   "execution_count": 60,
   "metadata": {},
   "outputs": [
    {
     "name": "stdout",
     "output_type": "stream",
     "text": [
      ".. _digits_dataset:\n",
      "\n",
      "Optical recognition of handwritten digits dataset\n",
      "--------------------------------------------------\n",
      "\n",
      "**Data Set Characteristics:**\n",
      "\n",
      "    :Number of Instances: 5620\n",
      "    :Number of Attributes: 64\n",
      "    :Attribute Information: 8x8 image of integer pixels in the range 0..16.\n",
      "    :Missing Attribute Values: None\n",
      "    :Creator: E. Alpaydin (alpaydin '@' boun.edu.tr)\n",
      "    :Date: July; 1998\n",
      "\n",
      "This is a copy of the test set of the UCI ML hand-written digits datasets\n",
      "https://archive.ics.uci.edu/ml/datasets/Optical+Recognition+of+Handwritten+Digits\n",
      "\n",
      "The data set contains images of hand-written digits: 10 classes where\n",
      "each class refers to a digit.\n",
      "\n",
      "Preprocessing programs made available by NIST were used to extract\n",
      "normalized bitmaps of handwritten digits from a preprinted form. From a\n",
      "total of 43 people, 30 contributed to the training set and different 13\n",
      "to the test set. 32x32 bitmaps are divided into nonoverlapping blocks of\n",
      "4x4 and the number of on pixels are counted in each block. This generates\n",
      "an input matrix of 8x8 where each element is an integer in the range\n",
      "0..16. This reduces dimensionality and gives invariance to small\n",
      "distortions.\n",
      "\n",
      "For info on NIST preprocessing routines, see M. D. Garris, J. L. Blue, G.\n",
      "T. Candela, D. L. Dimmick, J. Geist, P. J. Grother, S. A. Janet, and C.\n",
      "L. Wilson, NIST Form-Based Handprint Recognition System, NISTIR 5469,\n",
      "1994.\n",
      "\n",
      ".. topic:: References\n",
      "\n",
      "  - C. Kaynak (1995) Methods of Combining Multiple Classifiers and Their\n",
      "    Applications to Handwritten Digit Recognition, MSc Thesis, Institute of\n",
      "    Graduate Studies in Science and Engineering, Bogazici University.\n",
      "  - E. Alpaydin, C. Kaynak (1998) Cascading Classifiers, Kybernetika.\n",
      "  - Ken Tang and Ponnuthurai N. Suganthan and Xi Yao and A. Kai Qin.\n",
      "    Linear dimensionalityreduction using relevance weighted LDA. School of\n",
      "    Electrical and Electronic Engineering Nanyang Technological University.\n",
      "    2005.\n",
      "  - Claudio Gentile. A New Approximate Maximal Margin Classification\n",
      "    Algorithm. NIPS. 2000.\n"
     ]
    },
    {
     "data": {
      "text/plain": [
       "['DESCR', 'data', 'feature_names', 'frame', 'images', 'target', 'target_names']"
      ]
     },
     "execution_count": 60,
     "metadata": {},
     "output_type": "execute_result"
    }
   ],
   "source": [
    "from sklearn.datasets import load_digits\n",
    "digits_data = load_digits()\n",
    "print(digits_data['DESCR'])\n",
    "dir(digits_data)\n"
   ]
  },
  {
   "cell_type": "code",
   "execution_count": 71,
   "metadata": {},
   "outputs": [
    {
     "data": {
      "image/png": "[encoded data removed]",
      "text/plain": [
       "<Figure size 216x144 with 1 Axes>"
      ]
     },
     "metadata": {
      "needs_background": "light"
     },
     "output_type": "display_data"
    },
    {
     "name": "stdout",
     "output_type": "stream",
     "text": [
      "1797\n",
      "1797\n"
     ]
    }
   ],
   "source": [
    "# Question: What is the difference between data and images? Both seem to have the same data?\n",
    "\n",
    "import matplotlib.pyplot as plt\n",
    "def show_image(image, label):\n",
    "    plt.figure(figsize=(3,2))\n",
    "    plt.axis('off')\n",
    "    plt.imshow(image, cmap='gray')\n",
    "    plt.title('Label: %i' % label)\n",
    "    plt.show()\n",
    "\n",
    "show_image(digits_data['images'][11], digits_data['target'][11])\n",
    "# TBD for image 12 show image and label, use function show_image"
   ]
  },
  {
   "cell_type": "markdown",
   "metadata": {},
   "source": [
    "#### Image 12 all features\n",
    "$\n",
    "\\begin{align}\n",
    "X^{12} \n",
    "\\end{align}\n",
    "$\n"
   ]
  },
  {
   "cell_type": "code",
   "execution_count": 72,
   "metadata": {},
   "outputs": [
    {
     "name": "stdout",
     "output_type": "stream",
     "text": [
      "[[ 0.  0.  0.  0. 14. 13.  1.  0.]\n",
      " [ 0.  0.  0.  5. 16. 16.  2.  0.]\n",
      " [ 0.  0.  0. 14. 16. 12.  0.  0.]\n",
      " [ 0.  1. 10. 16. 16. 12.  0.  0.]\n",
      " [ 0.  3. 12. 14. 16.  9.  0.  0.]\n",
      " [ 0.  0.  0.  5. 16. 15.  0.  0.]\n",
      " [ 0.  0.  0.  4. 16. 14.  0.  0.]\n",
      " [ 0.  0.  0.  1. 13. 16.  1.  0.]]\n"
     ]
    }
   ],
   "source": [
    "print(digits_data['images'][11])"
   ]
  },
  {
   "cell_type": "markdown",
   "metadata": {},
   "source": [
    "####  Image 12 intensity of pixel 20 \n",
    "$\n",
    "\\begin{align}\n",
    "X^{11}_{20} \n",
    "\\end{align}\n",
    "$"
   ]
  },
  {
   "cell_type": "code",
   "execution_count": 59,
   "metadata": {},
   "outputs": [
    {
     "name": "stdout",
     "output_type": "stream",
     "text": [
      "0.0\n"
     ]
    }
   ],
   "source": [
    "pixel_20_index = digits_data['feature_names'].index('pixel_2_0')\n",
    "print(digits_data['data'][11][pixel_20_index])"
   ]
  }
 ],
 "metadata": {
  "kernelspec": {
   "display_name": "Python 3",
   "language": "python",
   "name": "python3"
  },
  "language_info": {
   "codemirror_mode": {
    "name": "ipython",
    "version": 3
   },
   "file_extension": ".py",
   "mimetype": "text/x-python",
   "name": "python",
   "nbconvert_exporter": "python",
   "pygments_lexer": "ipython3",
   "version": "3.8.3"
  }
 },
 "nbformat": 4,
 "nbformat_minor": 2
}
