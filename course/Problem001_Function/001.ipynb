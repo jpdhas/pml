{
 "cells": [
  {
   "cell_type": "markdown",
   "metadata": {
    "id": "N0DfkUco13hA"
   },
   "source": [
    "## Problem 1.1 Functions\n",
    "\n",
    "implement following simple functions"
   ]
  },
  {
   "cell_type": "code",
   "execution_count": 2,
   "metadata": {
    "colab": {
     "base_uri": "https://localhost:8080/",
     "height": 68
    },
    "id": "XmxmADIt13hB",
    "outputId": "9e22dd70-5a89-435d-b92f-14da92e4b44b"
   },
   "outputs": [
    {
     "name": "stdout",
     "output_type": "stream",
     "text": [
      "9\n",
      "4\n",
      "3.0\n"
     ]
    }
   ],
   "source": [
    "def square(x):\n",
    "    return x*x\n",
    "\n",
    "def times2(x):\n",
    "    return 2*x\n",
    "\n",
    "def average(x1, x2, x3, x4, x5):\n",
    "    return (x1 + x2 + x3 + x4 + x5)/5\n",
    "\n",
    "print(square(3))\n",
    "print(times2(2))\n",
    "print(average(1, 2, 3, 4, 5))"
   ]
  }
 ],
 "metadata": {
  "colab": {
   "name": "001.ipynb",
   "provenance": []
  },
  "kernelspec": {
   "display_name": "Python 3",
   "language": "python",
   "name": "python3"
  },
  "language_info": {
   "codemirror_mode": {
    "name": "ipython",
    "version": 3
   },
   "file_extension": ".py",
   "mimetype": "text/x-python",
   "name": "python",
   "nbconvert_exporter": "python",
   "pygments_lexer": "ipython3",
   "version": "3.8.3"
  }
 },
 "nbformat": 4,
 "nbformat_minor": 1
}
