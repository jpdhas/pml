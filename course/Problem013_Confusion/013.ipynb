{
 "cells": [
  {
   "source": [
    "# How to evaluate following systems?\n",
    "\n",
    "## Credit Approval (Yes/No)\n",
    "## Covid detection (Positive/Negative)\n",
    "## Court guilty judgement (Guilty/Not Guilty)\n",
    "## Spam detection (Spam/Ham)\n",
    "## Anomaly detection (Anomaly/Normal)\n"
   ],
   "cell_type": "markdown",
   "metadata": {
    "scrolled": true
   }
  },
  {
   "cell_type": "code",
   "execution_count": 2,
   "metadata": {},
   "outputs": [
    {
     "output_type": "stream",
     "name": "stdout",
     "text": [
      "3.4538776394910693\n6.907915198468176\n"
     ]
    }
   ],
   "source": [
    "# Some classification process under study generated following labels \n",
    "Y =  [1, 0, 0, 0, 0, 0, 0, 0, 0, 0]\n",
    "\n",
    "# 2 classification models trying to approximate above process produced following end predictions\n",
    "Y_hat1 = [0, 0, 0, 0, 0, 0, 0, 0, 0, 0]\n",
    "Y_hat2 = [1, 0, 0, 1, 1, 0, 0, 0, 0, 0]\n",
    "#TBD Which is the better model\n",
    "\n",
    "from sklearn.metrics import log_loss\n",
    "\n",
    "loss1 = log_loss(Y, Y_hat1)\n",
    "print(loss1)\n",
    "loss2 = log_loss(Y, Y_hat2)\n",
    "print(loss2)\n",
    "\n",
    "#Model 1 is better because it has less loss"
   ]
  },
  {
   "cell_type": "code",
   "execution_count": 3,
   "metadata": {},
   "outputs": [
    {
     "output_type": "stream",
     "name": "stdout",
     "text": [
      "0.9\n0.8\n"
     ]
    }
   ],
   "source": [
    "# TBD: Compute accuracy of the models\n",
    "from sklearn.metrics import accuracy_score\n",
    "\n",
    "accuracy1 = accuracy_score(Y, Y_hat1)\n",
    "print(accuracy1)\n",
    "accuracy2 = accuracy_score(Y, Y_hat2)\n",
    "print(accuracy2)\n",
    "\n",
    "#Model 1 is more accurate"
   ]
  },
  {
   "cell_type": "code",
   "execution_count": 2,
   "metadata": {},
   "outputs": [],
   "source": [
    "# TBD: Compute confusion matrix for the models"
   ]
  },
  {
   "cell_type": "code",
   "execution_count": 3,
   "metadata": {},
   "outputs": [],
   "source": [
    "# TBD: Compute precision, recall and f1 score for the models"
   ]
  },
  {
   "cell_type": "code",
   "execution_count": null,
   "metadata": {},
   "outputs": [],
   "source": []
  }
 ],
 "metadata": {
  "kernelspec": {
   "name": "python3",
   "display_name": "Python 3.8.3 64-bit",
   "metadata": {
    "interpreter": {
     "hash": "082e9a3bcad0a290d0001e938aa60b99250c6c2ef33a923c00b70f9826caf4b7"
    }
   }
  },
  "language_info": {
   "codemirror_mode": {
    "name": "ipython",
    "version": 3
   },
   "file_extension": ".py",
   "mimetype": "text/x-python",
   "name": "python",
   "nbconvert_exporter": "python",
   "pygments_lexer": "ipython3",
   "version": "3.8.3-final"
  }
 },
 "nbformat": 4,
 "nbformat_minor": 2
}