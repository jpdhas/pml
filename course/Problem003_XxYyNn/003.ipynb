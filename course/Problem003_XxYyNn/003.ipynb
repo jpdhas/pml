{
  "nbformat": 4,
  "nbformat_minor": 0,
  "metadata": {
    "kernelspec": {
      "display_name": "Python 3",
      "language": "python",
      "name": "python3"
    },
    "language_info": {
      "codemirror_mode": {
        "name": "ipython",
        "version": 3
      },
      "file_extension": ".py",
      "mimetype": "text/x-python",
      "name": "python",
      "nbconvert_exporter": "python",
      "pygments_lexer": "ipython3",
      "version": "3.6.5"
    },
    "colab": {
      "name": "003.ipynb",
      "provenance": []
    }
  },
  "cells": [
    {
      "cell_type": "markdown",
      "metadata": {
        "id": "NZt2h2TsCDuo"
      },
      "source": [
        "# Load Boston Housing Dataset\n",
        "https://scikit-learn.org/stable/modules/generated/sklearn.datasets.load_boston.html#sklearn.datasets.load_boston"
      ]
    },
    {
      "cell_type": "code",
      "metadata": {
        "scrolled": true,
        "id": "yBsRwAdXCDuq"
      },
      "source": [
        "from sklearn.datasets import load_boston\n",
        "house_data = load_boston()\n",
        "dir(house_data)"
      ],
      "execution_count": null,
      "outputs": []
    },
    {
      "cell_type": "code",
      "metadata": {
        "id": "unEfcn06CDuy"
      },
      "source": [
        "# How many houses are there (N)\n",
        "N = len(house_data['data'])\n",
        "print(N)"
      ],
      "execution_count": null,
      "outputs": []
    },
    {
      "cell_type": "code",
      "metadata": {
        "id": "CJZrgP3VCDu2"
      },
      "source": [
        "# A house has how many attributes(or features or signals or dimensions or columns)\n",
        "n = len(house_data['feature_names'])\n",
        "print(n)\n",
        "\n",
        "# All attributes together make up a row (or input or x)"
      ],
      "execution_count": null,
      "outputs": []
    },
    {
      "cell_type": "code",
      "metadata": {
        "id": "onwYYTISCDu5"
      },
      "source": [
        "# Whats the Median value of the first house (target or label or output y)\n",
        "print(house_data['target'][0])"
      ],
      "execution_count": null,
      "outputs": []
    },
    {
      "cell_type": "code",
      "metadata": {
        "id": "OTwjueUACDu_"
      },
      "source": [
        "# Whats the value of feature RM (average number of rooms per dwelling) for the last house\n",
        "import numpy as np\n",
        "#try and use numpy\n",
        "print(house_data['data'][-1][5])"
      ],
      "execution_count": null,
      "outputs": []
    },
    {
      "cell_type": "markdown",
      "metadata": {
        "id": "nnAirWVRCDvD"
      },
      "source": [
        "#### House 8 all features\n",
        "$\n",
        "\\begin{align}\n",
        "X^{8} \n",
        "\\end{align}\n",
        "$\n"
      ]
    },
    {
      "cell_type": "code",
      "metadata": {
        "id": "PLcIROMeCDvE"
      },
      "source": [
        "print(house_data['data'][7])"
      ],
      "execution_count": null,
      "outputs": []
    },
    {
      "cell_type": "markdown",
      "metadata": {
        "id": "VFTvjv0SCDvI"
      },
      "source": [
        "#### House 8,  feature 2\n",
        "(INDUS proportion of non-retail business acres per town)\n",
        "\n",
        "$\n",
        "\\begin{align}\n",
        "X_{2}^{8}\n",
        "\\end{align}\n",
        "$\n"
      ]
    },
    {
      "cell_type": "code",
      "metadata": {
        "id": "bdIh08WkCDvI"
      },
      "source": [
        "print(house_data['data'][7])"
      ],
      "execution_count": null,
      "outputs": []
    },
    {
      "cell_type": "markdown",
      "metadata": {
        "id": "8IwjYwbcCDvP"
      },
      "source": [
        "#### All houses feature 4\n",
        "(NOX nitric oxides concentration)\n",
        "\n",
        "$\n",
        "\\begin{align}\n",
        "X_{4}\n",
        "\\end{align}\n",
        "$\n"
      ]
    },
    {
      "cell_type": "code",
      "metadata": {
        "id": "tKrxtwAHCDvP"
      },
      "source": [
        "# TBD "
      ],
      "execution_count": null,
      "outputs": []
    },
    {
      "cell_type": "markdown",
      "metadata": {
        "id": "MwE8K_FcCDvS"
      },
      "source": [
        "#### Target value for house 4\n",
        "$\n",
        "Y^{4}\n",
        "$\n"
      ]
    },
    {
      "cell_type": "code",
      "metadata": {
        "id": "UmfK00VKCDvT"
      },
      "source": [
        "# TBD"
      ],
      "execution_count": null,
      "outputs": []
    },
    {
      "cell_type": "markdown",
      "metadata": {
        "id": "0Ur5IybmCDvV"
      },
      "source": [
        "Small *x* and *y* are used to represent a *feature* and *target* of a single house\n",
        "#### Which among the following could be valid representation?\n",
        "$\n",
        "x^{4}\\:, \\: x_{2}\\:,\\:y^{4}\\:,\\:y_{2}\n",
        "$\n",
        "\n"
      ]
    },
    {
      "cell_type": "code",
      "metadata": {
        "id": "tGYuypGwCDvW"
      },
      "source": [
        ""
      ],
      "execution_count": null,
      "outputs": []
    }
  ]
}