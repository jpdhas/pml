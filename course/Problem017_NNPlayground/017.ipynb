{
 "cells": [
  {
   "cell_type": "markdown",
   "metadata": {},
   "source": []
  },
  {
   "source": [
    "## Visit [Neural Network Playground](https://playground.tensorflow.org)"
   ],
   "cell_type": "markdown",
   "metadata": {}
  },
  {
   "source": [
    "## TBD: In the above site, how many of the following terms do you understand? (Arranged in order from simple to complex)\n",
    "\n",
    "### Features, Output, Problem type, Neuron, Ratio of training to test data, Layers, Activation, Data, Colors in various context, Batch size, Epoch, Test Loss, Training Loss, Weights, Test Data, Learning Rate, Regularization, Regularization Rate,"
   ],
   "cell_type": "markdown",
   "metadata": {}
  },
  {
   "source": [
    "## TBD Your lowest Test Loss on Classification Problems\n",
    "\n",
    "a) Circle - Tanh with 2 hidden layers and 5 neurons per hidden layer. Total loss: 0.000\n",
    "\n",
    "b) Exclusive or - Relu with 2 hidden layers and 5 neurons per hidden layer. Total loss: 0.000\n",
    "\n",
    "c) Guassian - Tanh, Relu, Sigmoid and Linear with no hidden layers. Total loss: 0.000\n",
    "\n",
    "d) Spiral - Relu worked much better with sprial data set with 4 hidden layers 5 neurons in first three and 3 in the last. Total loss is fluctuating between 0.180 - 0.193"
   ],
   "cell_type": "markdown",
   "metadata": {}
  },
  {
   "source": [
    "## TBD Your lowest Test Loss on Regression Problems\n",
    "\n",
    "a) Plane - Relu and Linear. Worked best with 1 hidden layer. With one neuron in the hidden layer.\n",
    "\n",
    "b) Multi Guassian - Works well with Tanh. 3 hidden layers. 5/ 4/ 3. Test loss: 0.007\n",
    "\n"
   ],
   "cell_type": "markdown",
   "metadata": {}
  },
  {
   "source": [
    "## TBD Feature Engineering\n",
    "\n",
    "a) On classification problem for Circles dataset, beat or match your lowest test score without using any hidden layer\n",
    "\n",
    "\n",
    "\n"
   ],
   "cell_type": "markdown",
   "metadata": {}
  },
  {
   "cell_type": "code",
   "execution_count": null,
   "metadata": {},
   "outputs": [],
   "source": [
    "Activation: Tanh\n",
    "Features: X21/ X22"
   ]
  }
 ],
 "metadata": {
  "kernelspec": {
   "display_name": "Python 3",
   "language": "python",
   "name": "python3"
  },
  "language_info": {
   "codemirror_mode": {
    "name": "ipython",
    "version": 3
   },
   "file_extension": ".py",
   "mimetype": "text/x-python",
   "name": "python",
   "nbconvert_exporter": "python",
   "pygments_lexer": "ipython3",
   "version": "3.8.2-final"
  }
 },
 "nbformat": 4,
 "nbformat_minor": 2
}