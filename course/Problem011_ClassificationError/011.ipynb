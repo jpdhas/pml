{
 "cells": [
  {
   "cell_type": "markdown",
   "metadata": {
    "scrolled": true
   },
   "source": [
    "## Categorical cross entropy error\n",
    "\n",
    "$\n",
    "J = - \\frac{1}{N} \\sum\\limits_{i = 0}^{N} \\large{(} \\small y^{(i)}\\log\\left(\\hat{y}^{(i)}\\right) + (1-y^{(i)})\\log\\left(1- \\hat{y}^{(i)}\\right) \\large{)}\n",
    "$"
   ]
  },
  {
   "cell_type": "code",
   "execution_count": 8,
   "metadata": {},
   "outputs": [
    {
     "name": "stdout",
     "output_type": "stream",
     "text": [
      "-0.009999999999999972\n",
      "-0.99\n",
      "-0.01\n",
      "-0.99\n"
     ]
    }
   ],
   "source": [
    "import numpy as np\n",
    "Y = np.array([1, 0, 0, 0, 1, 1, 0])\n",
    "\n",
    "# Follwing are the corrosponding Y_hat values from 3 classification models\n",
    "# TBD: Arrange the models from best to worst.\n",
    "# second set is the worst as it deviates from Y by quite a lot\n",
    "Y_hat1 = np.array([0.99, 0.01, 0.01, 0.01, 0.99, 0.99, 0.01])\n",
    "Y_hat3 = np.array([0.99, 0.01, 0.01, 0.99, 0.99, 0.01, 0.01])\n",
    "Y_hat4 = np.array([0.99, 0.01, 0.01, 0.99, 0.99, 0.01, 0.99])\n",
    "Y_hat2 = np.array([0.01, 0.99, 0.99, 0.99, 0.01, 0.01, 0.99])\n",
    "\n",
    "\n",
    "y_hat1_error = sum([z - z_hat for z, z_hat in zip(Y, Y_hat1)])\n",
    "print(y_hat1_error)\n",
    "y_hat2_error = sum([z - z_hat for z, z_hat in zip(Y, Y_hat2)])\n",
    "print(y_hat2_error)\n",
    "y_hat3_error = sum([z - z_hat for z, z_hat in zip(Y, Y_hat3)])\n",
    "print(y_hat3_error)\n",
    "y_hat4_error = sum([z - z_hat for z, z_hat in zip(Y, Y_hat4)])\n",
    "print(y_hat4_error)"
   ]
  },
  {
   "cell_type": "code",
   "execution_count": 4,
   "metadata": {},
   "outputs": [
    {
     "name": "stdout",
     "output_type": "stream",
     "text": [
      "0.010050335853501449\n",
      "4.605170185988091\n",
      "1.3229417216062413\n",
      "1.9793874144826111\n"
     ]
    }
   ],
   "source": [
    "#TBD For above Y and Y_hat values compute categorical cross entropy error using sklearn library function\n",
    "from sklearn.metrics import log_loss\n",
    "print(log_loss(Y, Y_hat1))\n",
    "print(log_loss(Y, Y_hat2))\n",
    "print(log_loss(Y, Y_hat3))\n",
    "print(log_loss(Y, Y_hat4))"
   ]
  }
 ],
 "metadata": {
  "kernelspec": {
   "display_name": "Python 3",
   "language": "python",
   "name": "python3"
  },
  "language_info": {
   "codemirror_mode": {
    "name": "ipython",
    "version": 3
   },
   "file_extension": ".py",
   "mimetype": "text/x-python",
   "name": "python",
   "nbconvert_exporter": "python",
   "pygments_lexer": "ipython3",
   "version": "3.8.3"
  }
 },
 "nbformat": 4,
 "nbformat_minor": 2
}
