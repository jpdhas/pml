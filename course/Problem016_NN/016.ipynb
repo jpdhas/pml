{
 "cells": [
  {
   "source": [
    "## Neural Network\n",
    "\n",
    "<img src=\"../../img/nn016.png\" width=\"900\">\n",
    "\n",
    "## TBD: For the given neural network above: \n",
    "* How many layers are there in total?\n",
    "* How many hidden layers?\n",
    "* How many weights are there in first hidden layer?\n",
    "* How many weights are there in total?\n",
    "* How many activations are produced from first hidden layer for single input sample?\n"
   ],
   "cell_type": "markdown",
   "metadata": {}
  },
  {
   "cell_type": "code",
   "execution_count": null,
   "metadata": {},
   "outputs": [],
   "source": [
    "#How many layers are there in total? There are 4 layers. Input/Hidden 1, 2/ Output\n",
    "#How many hidden layers? 2\n",
    "#How many weights are there in #first hidden layer? 6\n",
    "#How many weights are there in total? 14\n",
    "#How many activations are produced from first hidden layer for single input sample? 3\n",
    "\n",
    "#Two inputs are being passed to the neurons on the first hidden layer.\n",
    "# On layer two, we get three features to work on."
   ]
  }
 ],
 "metadata": {
  "kernelspec": {
   "display_name": "Python 3",
   "language": "python",
   "name": "python3"
  },
  "language_info": {
   "codemirror_mode": {
    "name": "ipython",
    "version": 3
   },
   "file_extension": ".py",
   "mimetype": "text/x-python",
   "name": "python",
   "nbconvert_exporter": "python",
   "pygments_lexer": "ipython3",
   "version": "3.8.2-final"
  }
 },
 "nbformat": 4,
 "nbformat_minor": 2
}