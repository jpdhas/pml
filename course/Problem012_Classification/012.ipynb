{
 "cells": [
  {
   "cell_type": "markdown",
   "metadata": {
    "scrolled": true
   },
   "source": [
    "# Credit Approval Yes/No\n",
    "\n"
   ]
  },
  {
   "cell_type": "code",
   "execution_count": 32,
   "metadata": {},
   "outputs": [],
   "source": [
    "import os, ssl\n",
    "if (not os.environ.get('PYTHONHTTPSVERIFY', '') and\n",
    "    getattr(ssl, '_create_unverified_context', None)):\n",
    "    ssl._create_default_https_context = ssl._create_unverified_context"
   ]
  },
  {
   "cell_type": "code",
   "execution_count": 33,
   "metadata": {},
   "outputs": [
    {
     "name": "stdout",
     "output_type": "stream",
     "text": [
      "{'data': array([[ 0.,  6.,  4., ...,  1.,  1.,  0.],\n",
      "       [ 1., 48.,  2., ...,  1.,  0.,  0.],\n",
      "       [ 3., 12.,  4., ...,  2.,  0.,  0.],\n",
      "       ...,\n",
      "       [ 3., 12.,  2., ...,  1.,  0.,  0.],\n",
      "       [ 0., 45.,  2., ...,  1.,  1.,  0.],\n",
      "       [ 1., 45.,  4., ...,  1.,  0.,  0.]]), 'target': array(['good', 'bad', 'good', 'good', 'bad', 'good', 'good', 'good',\n",
      "       'good', 'bad', 'bad', 'bad', 'good', 'bad', 'good', 'bad', 'good',\n",
      "       'good', 'bad', 'good', 'good', 'good', 'good', 'good', 'good',\n",
      "       'good', 'good', 'good', 'good', 'bad', 'good', 'good', 'good',\n",
      "       'good', 'good', 'bad', 'good', 'bad', 'good', 'good', 'good',\n",
      "       'good', 'good', 'good', 'bad', 'good', 'good', 'good', 'good',\n",
      "       'good', 'good', 'good', 'good', 'good', 'bad', 'good', 'bad',\n",
      "       'good', 'good', 'bad', 'good', 'good', 'bad', 'bad', 'good',\n",
      "       'good', 'good', 'good', 'bad', 'good', 'good', 'good', 'good',\n",
      "       'good', 'bad', 'good', 'bad', 'good', 'good', 'good', 'bad',\n",
      "       'good', 'good', 'good', 'good', 'good', 'good', 'bad', 'good',\n",
      "       'bad', 'good', 'good', 'bad', 'good', 'good', 'bad', 'good',\n",
      "       'good', 'good', 'good', 'good', 'good', 'good', 'good', 'good',\n",
      "       'bad', 'bad', 'good', 'good', 'good', 'good', 'good', 'good',\n",
      "       'bad', 'good', 'good', 'bad', 'good', 'bad', 'good', 'bad', 'good',\n",
      "       'good', 'good', 'bad', 'good', 'good', 'bad', 'good', 'bad',\n",
      "       'good', 'bad', 'good', 'good', 'good', 'good', 'good', 'bad',\n",
      "       'good', 'good', 'good', 'good', 'good', 'bad', 'good', 'good',\n",
      "       'good', 'good', 'good', 'good', 'good', 'good', 'good', 'good',\n",
      "       'good', 'bad', 'good', 'good', 'good', 'good', 'good', 'good',\n",
      "       'good', 'good', 'good', 'good', 'bad', 'good', 'good', 'bad',\n",
      "       'bad', 'good', 'bad', 'good', 'bad', 'bad', 'good', 'good', 'good',\n",
      "       'good', 'bad', 'bad', 'bad', 'good', 'bad', 'good', 'bad', 'good',\n",
      "       'bad', 'good', 'bad', 'bad', 'bad', 'good', 'bad', 'bad', 'good',\n",
      "       'bad', 'good', 'bad', 'good', 'good', 'good', 'bad', 'good',\n",
      "       'good', 'good', 'good', 'good', 'good', 'good', 'good', 'bad',\n",
      "       'bad', 'good', 'good', 'good', 'good', 'good', 'good', 'good',\n",
      "       'good', 'good', 'good', 'good', 'good', 'bad', 'bad', 'bad',\n",
      "       'good', 'bad', 'good', 'good', 'good', 'good', 'bad', 'bad', 'bad',\n",
      "       'good', 'good', 'bad', 'good', 'bad', 'good', 'good', 'good',\n",
      "       'good', 'good', 'good', 'bad', 'good', 'good', 'bad', 'good',\n",
      "       'good', 'good', 'good', 'bad', 'good', 'good', 'good', 'good',\n",
      "       'good', 'good', 'good', 'bad', 'good', 'good', 'bad', 'good',\n",
      "       'good', 'good', 'good', 'bad', 'bad', 'good', 'good', 'good',\n",
      "       'bad', 'good', 'good', 'good', 'good', 'good', 'good', 'good',\n",
      "       'good', 'good', 'good', 'bad', 'good', 'bad', 'good', 'good',\n",
      "       'good', 'bad', 'good', 'good', 'good', 'good', 'good', 'bad',\n",
      "       'bad', 'good', 'bad', 'good', 'good', 'bad', 'bad', 'good', 'good',\n",
      "       'good', 'good', 'bad', 'good', 'bad', 'good', 'good', 'good',\n",
      "       'good', 'bad', 'bad', 'good', 'good', 'good', 'good', 'good',\n",
      "       'good', 'good', 'good', 'good', 'bad', 'bad', 'bad', 'bad', 'bad',\n",
      "       'good', 'bad', 'good', 'good', 'good', 'good', 'good', 'good',\n",
      "       'good', 'good', 'good', 'good', 'good', 'bad', 'good', 'bad',\n",
      "       'good', 'bad', 'good', 'bad', 'good', 'bad', 'good', 'bad', 'good',\n",
      "       'good', 'good', 'good', 'bad', 'good', 'good', 'good', 'bad',\n",
      "       'good', 'good', 'good', 'good', 'good', 'bad', 'bad', 'good',\n",
      "       'good', 'bad', 'good', 'good', 'bad', 'good', 'good', 'good',\n",
      "       'good', 'good', 'good', 'good', 'good', 'good', 'good', 'good',\n",
      "       'good', 'good', 'good', 'good', 'good', 'bad', 'good', 'good',\n",
      "       'good', 'bad', 'good', 'good', 'bad', 'good', 'good', 'good',\n",
      "       'bad', 'good', 'good', 'bad', 'good', 'bad', 'good', 'bad', 'good',\n",
      "       'good', 'bad', 'good', 'good', 'good', 'good', 'bad', 'good',\n",
      "       'good', 'good', 'good', 'bad', 'good', 'bad', 'good', 'good',\n",
      "       'good', 'bad', 'good', 'good', 'good', 'bad', 'good', 'good',\n",
      "       'good', 'bad', 'bad', 'good', 'bad', 'good', 'good', 'bad', 'good',\n",
      "       'good', 'good', 'good', 'bad', 'good', 'good', 'bad', 'good',\n",
      "       'good', 'good', 'good', 'good', 'good', 'good', 'good', 'bad',\n",
      "       'good', 'good', 'good', 'bad', 'bad', 'bad', 'good', 'bad', 'bad',\n",
      "       'good', 'good', 'good', 'good', 'good', 'good', 'good', 'good',\n",
      "       'good', 'bad', 'good', 'good', 'good', 'good', 'good', 'bad',\n",
      "       'good', 'good', 'good', 'bad', 'bad', 'good', 'good', 'good',\n",
      "       'bad', 'good', 'good', 'bad', 'bad', 'bad', 'good', 'bad', 'good',\n",
      "       'good', 'bad', 'good', 'good', 'good', 'good', 'good', 'good',\n",
      "       'bad', 'good', 'good', 'good', 'bad', 'bad', 'good', 'good',\n",
      "       'good', 'good', 'good', 'bad', 'good', 'good', 'bad', 'good',\n",
      "       'good', 'good', 'bad', 'good', 'good', 'bad', 'good', 'bad',\n",
      "       'good', 'bad', 'bad', 'good', 'bad', 'good', 'good', 'bad', 'good',\n",
      "       'good', 'good', 'bad', 'good', 'good', 'bad', 'bad', 'bad', 'bad',\n",
      "       'bad', 'good', 'bad', 'good', 'bad', 'good', 'good', 'bad', 'good',\n",
      "       'good', 'bad', 'bad', 'good', 'good', 'good', 'good', 'good',\n",
      "       'good', 'good', 'bad', 'good', 'bad', 'good', 'good', 'bad',\n",
      "       'good', 'bad', 'good', 'good', 'bad', 'bad', 'good', 'good',\n",
      "       'good', 'bad', 'bad', 'bad', 'bad', 'bad', 'bad', 'good', 'good',\n",
      "       'bad', 'bad', 'bad', 'good', 'good', 'good', 'bad', 'good', 'good',\n",
      "       'bad', 'bad', 'good', 'good', 'bad', 'good', 'good', 'good', 'bad',\n",
      "       'good', 'good', 'bad', 'bad', 'good', 'bad', 'good', 'good', 'bad',\n",
      "       'good', 'good', 'good', 'bad', 'good', 'bad', 'bad', 'good',\n",
      "       'good', 'good', 'good', 'bad', 'bad', 'good', 'bad', 'good',\n",
      "       'good', 'bad', 'good', 'bad', 'bad', 'bad', 'good', 'bad', 'bad',\n",
      "       'bad', 'good', 'good', 'bad', 'good', 'good', 'good', 'good',\n",
      "       'bad', 'good', 'good', 'good', 'good', 'good', 'good', 'bad',\n",
      "       'good', 'good', 'good', 'good', 'good', 'bad', 'good', 'good',\n",
      "       'bad', 'good', 'good', 'good', 'good', 'good', 'good', 'good',\n",
      "       'good', 'good', 'good', 'good', 'good', 'good', 'good', 'good',\n",
      "       'good', 'good', 'good', 'good', 'good', 'good', 'good', 'bad',\n",
      "       'bad', 'good', 'good', 'good', 'good', 'bad', 'bad', 'good',\n",
      "       'good', 'good', 'bad', 'good', 'good', 'bad', 'good', 'good',\n",
      "       'good', 'good', 'good', 'bad', 'bad', 'bad', 'good', 'bad', 'good',\n",
      "       'good', 'bad', 'bad', 'good', 'good', 'bad', 'good', 'good',\n",
      "       'good', 'good', 'bad', 'good', 'good', 'bad', 'good', 'good',\n",
      "       'good', 'good', 'good', 'good', 'good', 'bad', 'good', 'good',\n",
      "       'good', 'bad', 'good', 'good', 'bad', 'bad', 'good', 'bad', 'good',\n",
      "       'bad', 'good', 'bad', 'good', 'bad', 'good', 'good', 'bad', 'good',\n",
      "       'good', 'good', 'good', 'bad', 'good', 'good', 'good', 'bad',\n",
      "       'good', 'good', 'good', 'good', 'bad', 'good', 'good', 'bad',\n",
      "       'good', 'good', 'good', 'good', 'bad', 'bad', 'bad', 'good',\n",
      "       'good', 'good', 'good', 'good', 'bad', 'good', 'good', 'good',\n",
      "       'good', 'good', 'good', 'good', 'good', 'bad', 'good', 'good',\n",
      "       'good', 'bad', 'good', 'good', 'bad', 'bad', 'bad', 'good', 'good',\n",
      "       'good', 'good', 'bad', 'good', 'good', 'bad', 'good', 'good',\n",
      "       'good', 'bad', 'bad', 'bad', 'good', 'good', 'bad', 'bad', 'good',\n",
      "       'bad', 'bad', 'good', 'good', 'good', 'good', 'bad', 'good', 'bad',\n",
      "       'good', 'good', 'good', 'bad', 'good', 'good', 'bad', 'bad',\n",
      "       'good', 'good', 'bad', 'good', 'good', 'good', 'good', 'bad',\n",
      "       'good', 'good', 'bad', 'bad', 'good', 'bad', 'good', 'good',\n",
      "       'good', 'good', 'good', 'good', 'good', 'good', 'good', 'good',\n",
      "       'good', 'good', 'good', 'bad', 'good', 'good', 'good', 'good',\n",
      "       'good', 'bad', 'bad', 'good', 'bad', 'good', 'good', 'good',\n",
      "       'good', 'good', 'good', 'good', 'good', 'good', 'good', 'good',\n",
      "       'bad', 'bad', 'good', 'good', 'good', 'good', 'good', 'good',\n",
      "       'good', 'good', 'good', 'good', 'bad', 'good', 'good', 'bad',\n",
      "       'bad', 'good', 'bad', 'bad', 'bad', 'good', 'good', 'bad', 'good',\n",
      "       'bad', 'bad', 'good', 'bad', 'good', 'good', 'good', 'bad', 'good',\n",
      "       'good', 'good', 'bad', 'bad', 'good', 'bad', 'good', 'good',\n",
      "       'good', 'good', 'good', 'good', 'good', 'bad', 'good', 'bad',\n",
      "       'bad', 'good', 'bad', 'bad', 'bad', 'good', 'good', 'good', 'good',\n",
      "       'bad', 'good', 'good', 'good', 'good', 'bad', 'good', 'good',\n",
      "       'bad', 'good', 'good', 'good', 'good', 'good', 'bad', 'bad',\n",
      "       'good', 'good', 'good', 'good', 'bad', 'bad', 'bad', 'bad', 'good',\n",
      "       'bad', 'good', 'good', 'good', 'good', 'good', 'good', 'good',\n",
      "       'good', 'good', 'good', 'good', 'good', 'good', 'good', 'bad',\n",
      "       'good'], dtype=object), 'frame': None, 'categories': {'checking_status': ['<0', '0<=X<200', '>=200', 'no checking'], 'credit_history': ['no credits/all paid', 'all paid', 'existing paid', 'delayed previously', 'critical/other existing credit'], 'purpose': ['new car', 'used car', 'furniture/equipment', 'radio/tv', 'domestic appliance', 'repairs', 'education', 'vacation', 'retraining', 'business', 'other'], 'savings_status': ['<100', '100<=X<500', '500<=X<1000', '>=1000', 'no known savings'], 'employment': ['unemployed', '<1', '1<=X<4', '4<=X<7', '>=7'], 'personal_status': ['male div/sep', 'female div/dep/mar', 'male single', 'male mar/wid', 'female single'], 'other_parties': ['none', 'co applicant', 'guarantor'], 'property_magnitude': ['real estate', 'life insurance', 'car', 'no known property'], 'other_payment_plans': ['bank', 'stores', 'none'], 'housing': ['rent', 'own', 'for free'], 'job': ['unemp/unskilled non res', 'unskilled resident', 'skilled', 'high qualif/self emp/mgmt'], 'own_telephone': ['none', 'yes'], 'foreign_worker': ['yes', 'no']}, 'feature_names': ['checking_status', 'duration', 'credit_history', 'purpose', 'credit_amount', 'savings_status', 'employment', 'installment_commitment', 'personal_status', 'other_parties', 'residence_since', 'property_magnitude', 'age', 'other_payment_plans', 'housing', 'existing_credits', 'job', 'num_dependents', 'own_telephone', 'foreign_worker'], 'target_names': ['class'], 'DESCR': '**Author**: Dr. Hans Hofmann  \\n**Source**: [UCI](https://archive.ics.uci.edu/ml/datasets/statlog+(german+credit+data)) - 1994    \\n**Please cite**: [UCI](https://archive.ics.uci.edu/ml/citation_policy.html)\\n\\n**German Credit dataset**  \\nThis dataset classifies people described by a set of attributes as good or bad credit risks.\\n\\nThis dataset comes with a cost matrix: \\n``` \\n      Good  Bad (predicted)  \\nGood   0    1   (actual)  \\nBad    5    0  \\n```\\n\\nIt is worse to class a customer as good when they are bad (5), than it is to class a customer as bad when they are good (1).  \\n\\n### Attribute description  \\n\\n1. Status of existing checking account, in Deutsche Mark.  \\n2. Duration in months  \\n3. Credit history (credits taken, paid back duly, delays, critical accounts)  \\n4. Purpose of the credit (car, television,...)  \\n5. Credit amount  \\n6. Status of savings account/bonds, in Deutsche Mark.  \\n7. Present employment, in number of years.  \\n8. Installment rate in percentage of disposable income  \\n9. Personal status (married, single,...) and sex  \\n10. Other debtors / guarantors  \\n11. Present residence since X years  \\n12. Property (e.g. real estate)  \\n13. Age in years  \\n14. Other installment plans (banks, stores)  \\n15. Housing (rent, own,...)  \\n16. Number of existing credits at this bank  \\n17. Job  \\n18. Number of people being liable to provide maintenance for  \\n19. Telephone (yes,no)  \\n20. Foreign worker (yes,no)\\n\\nDownloaded from openml.org.', 'details': {'id': '31', 'name': 'credit-g', 'version': '1', 'format': 'ARFF', 'upload_date': '2014-04-06T23:21:47', 'licence': 'Public', 'url': 'https://www.openml.org/data/v1/download/31/credit-g.arff', 'file_id': '31', 'default_target_attribute': 'class', 'version_label': '1', 'tag': ['credit_scoring', 'finance_problem', 'mythbusting_1', 'OpenML-CC18', 'OpenML100', 'study_1', 'study_123', 'study_14', 'study_144', 'study_15', 'study_20', 'study_218', 'study_241', 'study_34', 'study_37', 'study_41', 'study_50', 'study_52', 'study_7', 'study_70', 'study_98', 'study_99', 'uci'], 'visibility': 'public', 'status': 'active', 'processing_date': '2019-07-09 15:21:20', 'md5_checksum': '9a475053fed0c26ee95cd4525e50074c'}, 'url': 'https://www.openml.org/d/31'}\n"
     ]
    }
   ],
   "source": [
    " from sklearn.datasets import fetch_openml\n",
    " #Load credit dataset\n",
    " data = fetch_openml(\"credit-g\")\n",
    "print(data)\n",
    "\n",
    "X = data.data\n",
    "Y = data.target"
   ]
  },
  {
   "cell_type": "code",
   "execution_count": 34,
   "metadata": {},
   "outputs": [
    {
     "name": "stdout",
     "output_type": "stream",
     "text": [
      "[[ 0.  6.  4. ...  1.  1.  0.]\n",
      " [ 1. 48.  2. ...  1.  0.  0.]\n",
      " [ 3. 12.  4. ...  2.  0.  0.]\n",
      " ...\n",
      " [ 3. 12.  2. ...  1.  0.  0.]\n",
      " [ 0. 45.  2. ...  1.  1.  0.]\n",
      " [ 1. 45.  4. ...  1.  0.  0.]]\n"
     ]
    }
   ],
   "source": [
    "print(X)"
   ]
  },
  {
   "cell_type": "code",
   "execution_count": 35,
   "metadata": {},
   "outputs": [
    {
     "name": "stdout",
     "output_type": "stream",
     "text": [
      "['good' 'bad' 'good' 'good' 'bad' 'good' 'good' 'good' 'good' 'bad' 'bad'\n",
      " 'bad' 'good' 'bad' 'good' 'bad' 'good' 'good' 'bad' 'good' 'good' 'good'\n",
      " 'good' 'good' 'good' 'good' 'good' 'good' 'good' 'bad' 'good' 'good'\n",
      " 'good' 'good' 'good' 'bad' 'good' 'bad' 'good' 'good' 'good' 'good'\n",
      " 'good' 'good' 'bad' 'good' 'good' 'good' 'good' 'good' 'good' 'good'\n",
      " 'good' 'good' 'bad' 'good' 'bad' 'good' 'good' 'bad' 'good' 'good' 'bad'\n",
      " 'bad' 'good' 'good' 'good' 'good' 'bad' 'good' 'good' 'good' 'good'\n",
      " 'good' 'bad' 'good' 'bad' 'good' 'good' 'good' 'bad' 'good' 'good' 'good'\n",
      " 'good' 'good' 'good' 'bad' 'good' 'bad' 'good' 'good' 'bad' 'good' 'good'\n",
      " 'bad' 'good' 'good' 'good' 'good' 'good' 'good' 'good' 'good' 'good'\n",
      " 'bad' 'bad' 'good' 'good' 'good' 'good' 'good' 'good' 'bad' 'good' 'good'\n",
      " 'bad' 'good' 'bad' 'good' 'bad' 'good' 'good' 'good' 'bad' 'good' 'good'\n",
      " 'bad' 'good' 'bad' 'good' 'bad' 'good' 'good' 'good' 'good' 'good' 'bad'\n",
      " 'good' 'good' 'good' 'good' 'good' 'bad' 'good' 'good' 'good' 'good'\n",
      " 'good' 'good' 'good' 'good' 'good' 'good' 'good' 'bad' 'good' 'good'\n",
      " 'good' 'good' 'good' 'good' 'good' 'good' 'good' 'good' 'bad' 'good'\n",
      " 'good' 'bad' 'bad' 'good' 'bad' 'good' 'bad' 'bad' 'good' 'good' 'good'\n",
      " 'good' 'bad' 'bad' 'bad' 'good' 'bad' 'good' 'bad' 'good' 'bad' 'good'\n",
      " 'bad' 'bad' 'bad' 'good' 'bad' 'bad' 'good' 'bad' 'good' 'bad' 'good'\n",
      " 'good' 'good' 'bad' 'good' 'good' 'good' 'good' 'good' 'good' 'good'\n",
      " 'good' 'bad' 'bad' 'good' 'good' 'good' 'good' 'good' 'good' 'good'\n",
      " 'good' 'good' 'good' 'good' 'good' 'bad' 'bad' 'bad' 'good' 'bad' 'good'\n",
      " 'good' 'good' 'good' 'bad' 'bad' 'bad' 'good' 'good' 'bad' 'good' 'bad'\n",
      " 'good' 'good' 'good' 'good' 'good' 'good' 'bad' 'good' 'good' 'bad'\n",
      " 'good' 'good' 'good' 'good' 'bad' 'good' 'good' 'good' 'good' 'good'\n",
      " 'good' 'good' 'bad' 'good' 'good' 'bad' 'good' 'good' 'good' 'good' 'bad'\n",
      " 'bad' 'good' 'good' 'good' 'bad' 'good' 'good' 'good' 'good' 'good'\n",
      " 'good' 'good' 'good' 'good' 'good' 'bad' 'good' 'bad' 'good' 'good'\n",
      " 'good' 'bad' 'good' 'good' 'good' 'good' 'good' 'bad' 'bad' 'good' 'bad'\n",
      " 'good' 'good' 'bad' 'bad' 'good' 'good' 'good' 'good' 'bad' 'good' 'bad'\n",
      " 'good' 'good' 'good' 'good' 'bad' 'bad' 'good' 'good' 'good' 'good'\n",
      " 'good' 'good' 'good' 'good' 'good' 'bad' 'bad' 'bad' 'bad' 'bad' 'good'\n",
      " 'bad' 'good' 'good' 'good' 'good' 'good' 'good' 'good' 'good' 'good'\n",
      " 'good' 'good' 'bad' 'good' 'bad' 'good' 'bad' 'good' 'bad' 'good' 'bad'\n",
      " 'good' 'bad' 'good' 'good' 'good' 'good' 'bad' 'good' 'good' 'good' 'bad'\n",
      " 'good' 'good' 'good' 'good' 'good' 'bad' 'bad' 'good' 'good' 'bad' 'good'\n",
      " 'good' 'bad' 'good' 'good' 'good' 'good' 'good' 'good' 'good' 'good'\n",
      " 'good' 'good' 'good' 'good' 'good' 'good' 'good' 'good' 'bad' 'good'\n",
      " 'good' 'good' 'bad' 'good' 'good' 'bad' 'good' 'good' 'good' 'bad' 'good'\n",
      " 'good' 'bad' 'good' 'bad' 'good' 'bad' 'good' 'good' 'bad' 'good' 'good'\n",
      " 'good' 'good' 'bad' 'good' 'good' 'good' 'good' 'bad' 'good' 'bad' 'good'\n",
      " 'good' 'good' 'bad' 'good' 'good' 'good' 'bad' 'good' 'good' 'good' 'bad'\n",
      " 'bad' 'good' 'bad' 'good' 'good' 'bad' 'good' 'good' 'good' 'good' 'bad'\n",
      " 'good' 'good' 'bad' 'good' 'good' 'good' 'good' 'good' 'good' 'good'\n",
      " 'good' 'bad' 'good' 'good' 'good' 'bad' 'bad' 'bad' 'good' 'bad' 'bad'\n",
      " 'good' 'good' 'good' 'good' 'good' 'good' 'good' 'good' 'good' 'bad'\n",
      " 'good' 'good' 'good' 'good' 'good' 'bad' 'good' 'good' 'good' 'bad' 'bad'\n",
      " 'good' 'good' 'good' 'bad' 'good' 'good' 'bad' 'bad' 'bad' 'good' 'bad'\n",
      " 'good' 'good' 'bad' 'good' 'good' 'good' 'good' 'good' 'good' 'bad'\n",
      " 'good' 'good' 'good' 'bad' 'bad' 'good' 'good' 'good' 'good' 'good' 'bad'\n",
      " 'good' 'good' 'bad' 'good' 'good' 'good' 'bad' 'good' 'good' 'bad' 'good'\n",
      " 'bad' 'good' 'bad' 'bad' 'good' 'bad' 'good' 'good' 'bad' 'good' 'good'\n",
      " 'good' 'bad' 'good' 'good' 'bad' 'bad' 'bad' 'bad' 'bad' 'good' 'bad'\n",
      " 'good' 'bad' 'good' 'good' 'bad' 'good' 'good' 'bad' 'bad' 'good' 'good'\n",
      " 'good' 'good' 'good' 'good' 'good' 'bad' 'good' 'bad' 'good' 'good' 'bad'\n",
      " 'good' 'bad' 'good' 'good' 'bad' 'bad' 'good' 'good' 'good' 'bad' 'bad'\n",
      " 'bad' 'bad' 'bad' 'bad' 'good' 'good' 'bad' 'bad' 'bad' 'good' 'good'\n",
      " 'good' 'bad' 'good' 'good' 'bad' 'bad' 'good' 'good' 'bad' 'good' 'good'\n",
      " 'good' 'bad' 'good' 'good' 'bad' 'bad' 'good' 'bad' 'good' 'good' 'bad'\n",
      " 'good' 'good' 'good' 'bad' 'good' 'bad' 'bad' 'good' 'good' 'good' 'good'\n",
      " 'bad' 'bad' 'good' 'bad' 'good' 'good' 'bad' 'good' 'bad' 'bad' 'bad'\n",
      " 'good' 'bad' 'bad' 'bad' 'good' 'good' 'bad' 'good' 'good' 'good' 'good'\n",
      " 'bad' 'good' 'good' 'good' 'good' 'good' 'good' 'bad' 'good' 'good'\n",
      " 'good' 'good' 'good' 'bad' 'good' 'good' 'bad' 'good' 'good' 'good'\n",
      " 'good' 'good' 'good' 'good' 'good' 'good' 'good' 'good' 'good' 'good'\n",
      " 'good' 'good' 'good' 'good' 'good' 'good' 'good' 'good' 'good' 'bad'\n",
      " 'bad' 'good' 'good' 'good' 'good' 'bad' 'bad' 'good' 'good' 'good' 'bad'\n",
      " 'good' 'good' 'bad' 'good' 'good' 'good' 'good' 'good' 'bad' 'bad' 'bad'\n",
      " 'good' 'bad' 'good' 'good' 'bad' 'bad' 'good' 'good' 'bad' 'good' 'good'\n",
      " 'good' 'good' 'bad' 'good' 'good' 'bad' 'good' 'good' 'good' 'good'\n",
      " 'good' 'good' 'good' 'bad' 'good' 'good' 'good' 'bad' 'good' 'good' 'bad'\n",
      " 'bad' 'good' 'bad' 'good' 'bad' 'good' 'bad' 'good' 'bad' 'good' 'good'\n",
      " 'bad' 'good' 'good' 'good' 'good' 'bad' 'good' 'good' 'good' 'bad' 'good'\n",
      " 'good' 'good' 'good' 'bad' 'good' 'good' 'bad' 'good' 'good' 'good'\n",
      " 'good' 'bad' 'bad' 'bad' 'good' 'good' 'good' 'good' 'good' 'bad' 'good'\n",
      " 'good' 'good' 'good' 'good' 'good' 'good' 'good' 'bad' 'good' 'good'\n",
      " 'good' 'bad' 'good' 'good' 'bad' 'bad' 'bad' 'good' 'good' 'good' 'good'\n",
      " 'bad' 'good' 'good' 'bad' 'good' 'good' 'good' 'bad' 'bad' 'bad' 'good'\n",
      " 'good' 'bad' 'bad' 'good' 'bad' 'bad' 'good' 'good' 'good' 'good' 'bad'\n",
      " 'good' 'bad' 'good' 'good' 'good' 'bad' 'good' 'good' 'bad' 'bad' 'good'\n",
      " 'good' 'bad' 'good' 'good' 'good' 'good' 'bad' 'good' 'good' 'bad' 'bad'\n",
      " 'good' 'bad' 'good' 'good' 'good' 'good' 'good' 'good' 'good' 'good'\n",
      " 'good' 'good' 'good' 'good' 'good' 'bad' 'good' 'good' 'good' 'good'\n",
      " 'good' 'bad' 'bad' 'good' 'bad' 'good' 'good' 'good' 'good' 'good' 'good'\n",
      " 'good' 'good' 'good' 'good' 'good' 'bad' 'bad' 'good' 'good' 'good'\n",
      " 'good' 'good' 'good' 'good' 'good' 'good' 'good' 'bad' 'good' 'good'\n",
      " 'bad' 'bad' 'good' 'bad' 'bad' 'bad' 'good' 'good' 'bad' 'good' 'bad'\n",
      " 'bad' 'good' 'bad' 'good' 'good' 'good' 'bad' 'good' 'good' 'good' 'bad'\n",
      " 'bad' 'good' 'bad' 'good' 'good' 'good' 'good' 'good' 'good' 'good' 'bad'\n",
      " 'good' 'bad' 'bad' 'good' 'bad' 'bad' 'bad' 'good' 'good' 'good' 'good'\n",
      " 'bad' 'good' 'good' 'good' 'good' 'bad' 'good' 'good' 'bad' 'good' 'good'\n",
      " 'good' 'good' 'good' 'bad' 'bad' 'good' 'good' 'good' 'good' 'bad' 'bad'\n",
      " 'bad' 'bad' 'good' 'bad' 'good' 'good' 'good' 'good' 'good' 'good' 'good'\n",
      " 'good' 'good' 'good' 'good' 'good' 'good' 'good' 'bad' 'good']\n"
     ]
    }
   ],
   "source": [
    "print(Y)\n",
    "#https://scikit-learn.org/stable/modules/generated/sklearn.preprocessing.LabelEncoder.html\n",
    "from sklearn import preprocessing\n",
    "le = preprocessing.LabelEncoder()\n",
    "y = le.fit_transform(Y)"
   ]
  },
  {
   "cell_type": "code",
   "execution_count": 36,
   "metadata": {},
   "outputs": [],
   "source": [
    "#TBD Split into Train and Test dataset. random 75% 25%\n",
    "from sklearn.model_selection import train_test_split\n",
    "\n",
    "X_train, X_test, Y_train, Y_test = train_test_split(X, y, train_size=0.75, test_size=0.25, random_state=50)"
   ]
  },
  {
   "cell_type": "code",
   "execution_count": 37,
   "metadata": {},
   "outputs": [
    {
     "name": "stderr",
     "output_type": "stream",
     "text": [
      "/Users/jpauldhas/.local/share/virtualenvs/pml-5f00brlu/lib/python3.8/site-packages/sklearn/linear_model/_logistic.py:762: ConvergenceWarning: lbfgs failed to converge (status=1):\n",
      "STOP: TOTAL NO. of ITERATIONS REACHED LIMIT.\n",
      "\n",
      "Increase the number of iterations (max_iter) or scale the data as shown in:\n",
      "    https://scikit-learn.org/stable/modules/preprocessing.html\n",
      "Please also refer to the documentation for alternative solver options:\n",
      "    https://scikit-learn.org/stable/modules/linear_model.html#logistic-regression\n",
      "  n_iter_i = _check_optimize_result(\n"
     ]
    },
    {
     "data": {
      "text/plain": [
       "LogisticRegression()"
      ]
     },
     "execution_count": 37,
     "metadata": {},
     "output_type": "execute_result"
    }
   ],
   "source": [
    "#TBD Fit logistic regression model on Training data\n",
    "from sklearn.linear_model import LogisticRegression\n",
    "\n",
    "model = LogisticRegression()\n",
    "model.fit(X_train, Y_train)"
   ]
  },
  {
   "cell_type": "code",
   "execution_count": 38,
   "metadata": {},
   "outputs": [
    {
     "name": "stdout",
     "output_type": "stream",
     "text": [
      "Test Data: [1 1 1 0 0 0 0 0 1 0 1 1 1 1 1 1 1 1 1 1 0 0 1 1 1 1 1 1 1 1 1 0 1 0 0 1 1\n",
      " 1 1 1 0 1 0 1 1 1 1 1 1 1 1 0 1 1 0 1 0 1 1 0 0 0 1 1 1 0 0 1 1 1 1 1 1 1\n",
      " 0 0 1 1 1 0 1 1 1 1 0 1 0 1 0 0 1 1 1 0 1 1 1 1 1 1 0 0 0 1 0 0 0 1 1 1 0\n",
      " 0 0 1 1 0 1 1 1 1 0 1 1 0 1 1 1 0 1 1 1 0 1 0 0 0 1 1 0 0 1 1 1 1 1 1 1 1\n",
      " 0 1 1 1 1 1 0 1 0 1 1 1 1 1 1 0 0 0 0 1 1 0 1 1 1 1 1 1 1 1 0 0 1 1 1 1 1\n",
      " 1 1 1 1 1 1 1 0 0 1 0 0 1 0 1 1 1 0 1 1 1 1 1 1 1 0 1 0 1 1 1 1 0 1 1 1 1\n",
      " 0 0 1 1 1 0 1 0 1 1 0 0 1 1 0 1 0 0 0 1 1 0 1 1 0 1 1 1]\n",
      "Predicted Data: [1 1 1 0 1 0 0 1 1 1 1 1 1 1 1 1 1 1 1 1 1 1 1 1 1 1 0 1 0 1 1 1 1 0 1 1 1\n",
      " 1 1 1 1 0 1 1 1 1 1 1 1 1 1 1 1 1 0 1 0 1 1 1 1 1 1 1 0 1 0 1 1 0 1 1 1 0\n",
      " 1 1 1 0 1 1 0 1 1 1 1 0 1 1 1 1 1 1 1 0 1 1 1 1 0 1 0 1 0 1 0 0 1 1 1 1 0\n",
      " 1 1 1 1 1 1 1 1 1 0 1 1 0 1 1 1 1 1 1 1 0 1 1 0 0 1 1 1 1 1 1 1 1 1 1 1 1\n",
      " 0 1 1 1 1 1 1 1 1 1 1 1 1 1 1 0 1 1 0 1 1 0 1 1 1 0 1 1 1 1 1 0 1 1 0 1 1\n",
      " 1 1 1 1 1 0 1 0 0 1 1 1 1 1 0 1 1 1 1 0 1 1 1 1 1 1 1 0 0 1 1 1 0 1 1 1 1\n",
      " 1 0 1 1 0 0 1 1 1 0 0 1 1 1 0 1 0 1 1 1 1 1 1 1 0 1 1 1]\n"
     ]
    }
   ],
   "source": [
    "#TBD Predict for Test data\n",
    "Y_hat = model.predict(X_test)\n",
    "print(f\"Test Data: {Y_test}\")\n",
    "print(f\"Predicted Data: {Y_hat}\")"
   ]
  },
  {
   "cell_type": "code",
   "execution_count": 40,
   "metadata": {},
   "outputs": [
    {
     "name": "stdout",
     "output_type": "stream",
     "text": [
      "8.842073883024291\n"
     ]
    }
   ],
   "source": [
    "#TBD Categorical cross entropy error (log loss) for your predictions\n",
    "from sklearn.metrics import log_loss\n",
    "\n",
    "loss = log_loss(Y_test, Y_hat)\n",
    "print(loss)"
   ]
  },
  {
   "cell_type": "code",
   "execution_count": null,
   "metadata": {},
   "outputs": [],
   "source": [
    "#TBD Predict concrete class (instread of probablity score) for test data\n"
   ]
  },
  {
   "cell_type": "code",
   "execution_count": null,
   "metadata": {},
   "outputs": [],
   "source": [
    "#TBD Determine accuracy score for concrete predictions"
   ]
  }
 ],
 "metadata": {
  "kernelspec": {
   "display_name": "Python 3",
   "language": "python",
   "name": "python3"
  },
  "language_info": {
   "codemirror_mode": {
    "name": "ipython",
    "version": 3
   },
   "file_extension": ".py",
   "mimetype": "text/x-python",
   "name": "python",
   "nbconvert_exporter": "python",
   "pygments_lexer": "ipython3",
   "version": "3.8.3"
  }
 },
 "nbformat": 4,
 "nbformat_minor": 2
}
